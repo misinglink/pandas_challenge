{
 "cells": [
  {
   "cell_type": "markdown",
   "metadata": {},
   "source": [
    "### Note\n",
    "* Instructions have been included for each segment. You do not have to follow them exactly, but they are included to help you think through the steps."
   ]
  },
  {
   "cell_type": "code",
   "execution_count": 103,
   "metadata": {},
   "outputs": [],
   "source": [
    "# Dependencies and Setup\n",
    "import pandas as pd\n",
    "import numpy as np\n",
    "\n",
    "# File to Load (Remember to Change These)\n",
    "school_data_to_load = \"schools_complete.csv\"\n",
    "student_data_to_load = \"students_complete.csv\"\n",
    "\n",
    "# Read School and Student Data File and store into Pandas Data Frames\n",
    "school_data = pd.read_csv(school_data_to_load)\n",
    "student_data = pd.read_csv(student_data_to_load)\n",
    "\n",
    "# Combine the data into a single dataset\n",
    "data = pd.merge(student_data, school_data, how=\"left\", on=[\"school_name\", \"school_name\"])"
   ]
  },
  {
   "cell_type": "code",
   "execution_count": 119,
   "metadata": {},
   "outputs": [
    {
     "data": {
      "text/plain": [
       "0             Paul Bradley\n",
       "1             Victor Smith\n",
       "2          Kevin Rodriguez\n",
       "3        Dr. Richard Scott\n",
       "4               Bonnie Ray\n",
       "               ...        \n",
       "39165         Donna Howard\n",
       "39166            Dawn Bell\n",
       "39167       Rebecca Tanner\n",
       "39168         Desiree Kidd\n",
       "39169      Carolyn Jackson\n",
       "Name: student_name, Length: 39170, dtype: object"
      ]
     },
     "execution_count": 119,
     "metadata": {},
     "output_type": "execute_result"
    }
   ],
   "source": [
    "data.student_name"
   ]
  },
  {
   "cell_type": "markdown",
   "metadata": {},
   "source": [
    "## District Summary\n",
    "\n",
    "* Calculate the total number of schools\n",
    "\n",
    "* Calculate the total number of students\n",
    "\n",
    "* Calculate the total budget\n",
    "\n",
    "* Calculate the average math score \n",
    "\n",
    "* Calculate the average reading score\n",
    "\n",
    "* Calculate the overall passing rate (overall average score), i.e. (avg. math score + avg. reading score)/2\n",
    "\n",
    "* Calculate the percentage of students with a passing math score (70 or greater)\n",
    "\n",
    "* Calculate the percentage of students with a passing reading score (70 or greater)\n",
    "\n",
    "* Create a dataframe to hold the above results\n",
    "\n",
    "* Optional: give the displayed data cleaner formatting"
   ]
  },
  {
   "cell_type": "code",
   "execution_count": 105,
   "metadata": {},
   "outputs": [
    {
     "data": {
      "text/plain": [
       "0    15\n",
       "dtype: int64"
      ]
     },
     "execution_count": 105,
     "metadata": {},
     "output_type": "execute_result"
    }
   ],
   "source": [
    "schools = pd.DataFrame(pd.unique(data['school_name'])) ##if i remember right argument return a list..\n",
    "schools.count()\n",
    "##it works"
   ]
  },
  {
   "cell_type": "code",
   "execution_count": 106,
   "metadata": {},
   "outputs": [],
   "source": [
    "total_schools = data['school_name'].value_counts().count()"
   ]
  },
  {
   "cell_type": "code",
   "execution_count": 107,
   "metadata": {},
   "outputs": [],
   "source": [
    "#Total Budget\n",
    "total_budget = data.budget.sum()"
   ]
  },
  {
   "cell_type": "code",
   "execution_count": 108,
   "metadata": {},
   "outputs": [],
   "source": [
    "#total students\n",
    "total_stu = len(data)"
   ]
  },
  {
   "cell_type": "code",
   "execution_count": 109,
   "metadata": {},
   "outputs": [],
   "source": [
    "#Calculate the average math score\n",
    "avg_m = format(data.math_score.mean(), '.2f')"
   ]
  },
  {
   "cell_type": "code",
   "execution_count": 110,
   "metadata": {},
   "outputs": [],
   "source": [
    "#Calculate the average reading score\n",
    "avg_r = format(data.reading_score.mean(), '.2f')"
   ]
  },
  {
   "cell_type": "code",
   "execution_count": 111,
   "metadata": {},
   "outputs": [],
   "source": [
    "#Calculate the overall passing rate (overall average score), i.e. (avg. math score + avg. reading score)/2\n",
    "overall = format((float(avg_r) + float(avg_m))/2, '.2f')"
   ]
  },
  {
   "cell_type": "code",
   "execution_count": 112,
   "metadata": {},
   "outputs": [],
   "source": [
    "#Calculate the percentage of students with a passing math score (70 or greater)\n",
    "pass_m = pd.Series(data.math_score > 70)\n",
    "pass_mm = pass_m.sum()\n",
    "pass_m_per = format((pass_m.sum()/len(data.index)) *100, '.2f')"
   ]
  },
  {
   "cell_type": "code",
   "execution_count": 113,
   "metadata": {},
   "outputs": [],
   "source": [
    "#Calculate the percentage of students with a passing reading score (70 or greater)\n",
    "pass_r = pd.Series(data.reading_score > 70) ##makes a boolean series \n",
    "pass_rr = pass_r.sum() ##sums amounts of 'True'...somehow...\n",
    "pass_r_per = format((pass_r.sum()/len(data)) *100, '.2f') ## maths :D"
   ]
  },
  {
   "cell_type": "code",
   "execution_count": 114,
   "metadata": {},
   "outputs": [
    {
     "name": "stdout",
     "output_type": "stream",
     "text": [
      "                          Avgs\n",
      "total_schools               15\n",
      "total_students           39170\n",
      "total_budget       82932329558\n",
      "avg_math_score           78.99\n",
      "avg_reading_score        81.88\n",
      "math_passing             72.39\n",
      "reading_passing          82.97\n",
      "overall_score            80.44\n"
     ]
    }
   ],
   "source": [
    "#Create a dataframe to hold the above results\n",
    "ind = ['total_schools', 'total_students', 'total_budget',\n",
    "       'avg_math_score', 'avg_reading_score', 'math_passing', \n",
    "      'reading_passing', 'overall_score'\n",
    "      ]\n",
    "##have to make list before series or data frame\n",
    "avgs = pd.DataFrame([total_schools, total_stu, total_budget, avg_m, avg_r, pass_m_per, pass_r_per, overall], \n",
    "                    columns = ['Avgs'],index = ind)\n",
    "print(avgs)\n",
    "\n"
   ]
  },
  {
   "cell_type": "markdown",
   "metadata": {},
   "source": [
    "## School Summary"
   ]
  },
  {
   "cell_type": "markdown",
   "metadata": {},
   "source": [
    "* Create an overview table that summarizes key metrics about each school, including:\n",
    "  * School Name\n",
    "  * School Type\n",
    "  * Total Students\n",
    "  * Total School Budget\n",
    "  * Per Student Budget\n",
    "  * Average Math Score\n",
    "  * Average Reading Score\n",
    "  * % Passing Math\n",
    "  * % Passing Reading\n",
    "  * Overall Passing Rate (Average of the above two)\n",
    "  \n",
    "* Create a dataframe to hold the above results"
   ]
  },
  {
   "cell_type": "code",
   "execution_count": 156,
   "metadata": {},
   "outputs": [
    {
     "name": "stdout",
     "output_type": "stream",
     "text": [
      "['Bailey High School' 'Cabrera High School' 'Figueroa High School'\n",
      " 'Ford High School' 'Griffin High School' 'Hernandez High School'\n",
      " 'Holden High School' 'Huang High School' 'Johnson High School'\n",
      " 'Pena High School' 'Rodriguez High School' 'Shelton High School'\n",
      " 'Thomas High School' 'Wilson High School' 'Wright High School']\n"
     ]
    }
   ],
   "source": [
    "##create list of school name to set as index \n",
    "skoolname = data.school_name.sort_values().unique()  ##have to do sort values first, .unique first creates nparray\n",
    "print(skoolname)\n",
    "##maybe not best cause of sorting but IDK #i think loop methodwill keep sorted"
   ]
  },
  {
   "cell_type": "code",
   "execution_count": 159,
   "metadata": {},
   "outputs": [
    {
     "data": {
      "text/plain": [
       "[4976,\n",
       " 1858,\n",
       " 2949,\n",
       " 2739,\n",
       " 1468,\n",
       " 4635,\n",
       " 427,\n",
       " 2917,\n",
       " 4761,\n",
       " 962,\n",
       " 3999,\n",
       " 1761,\n",
       " 1635,\n",
       " 2283,\n",
       " 1800]"
      ]
     },
     "execution_count": 159,
     "metadata": {},
     "output_type": "execute_result"
    }
   ],
   "source": [
    "students = []\n",
    "for skol in skoolname:\n",
    "    students.append(len(data[data[\"school_name\"].str.contains(skol)]))\n",
    "students"
   ]
  },
  {
   "cell_type": "code",
   "execution_count": 120,
   "metadata": {},
   "outputs": [
    {
     "data": {
      "text/plain": [
       "[\"['District']\",\n",
       " \"['Charter']\",\n",
       " \"['District']\",\n",
       " \"['District']\",\n",
       " \"['Charter']\",\n",
       " \"['District']\",\n",
       " \"['Charter']\",\n",
       " \"['District']\",\n",
       " \"['District']\",\n",
       " \"['Charter']\",\n",
       " \"['District']\",\n",
       " \"['Charter']\",\n",
       " \"['Charter']\",\n",
       " \"['Charter']\",\n",
       " \"['Charter']\"]"
      ]
     },
     "execution_count": 120,
     "metadata": {},
     "output_type": "execute_result"
    }
   ],
   "source": [
    "##skool type list\n",
    "typ3 = []\n",
    "for skol in skoolname:\n",
    "    typ3.append(str(data[data[\"school_name\"].str.startswith(skol)].type.unique())) \n",
    "    \n",
    "##there has to be a better way\n",
    "#this gives list of strings of lists "
   ]
  },
  {
   "cell_type": "code",
   "execution_count": 213,
   "metadata": {},
   "outputs": [],
   "source": [
    "\n",
    "budgets = []\n",
    "per_stu_bud = []\n",
    "\n",
    "math_means = []\n",
    "read_means = []\n",
    "\n",
    "raw_math_pass = []\n",
    "math_pass = []\n",
    "\n",
    "raw_read_pass = []\n",
    "read_pass = []\n",
    "\n",
    "overall_score = []\n",
    "\n",
    "for skol in skoolname:\n",
    "    budgets.append(data[data[\"school_name\"].str.startswith(skol)].budget.sum())\n",
    "    math_means.append(data[data[\"school_name\"].str.contains(skol)].math_score.mean())\n",
    "    read_means.append(data[data[\"school_name\"].str.startswith(skol)].reading_score.mean())\n",
    "    raw_math_pass.append(pd.Series(data[data[\"school_name\"].str.startswith(skol)].math_score >= 70).sum())\n",
    "    raw_read_pass.append(pd.Series(data[data[\"school_name\"].str.startswith(skol)].reading_score >= 70).sum())\n",
    "\n",
    "    \n",
    "##per student budget\n",
    "for i in range(0, len(budgets)):\n",
    "    per_stu_bud.append(budgets[i]/students[i])\n",
    "    \n",
    "##%%math pass\n",
    "for i in range(0, len(raw_math_pass)):\n",
    "    math_pass.append(raw_math_pass[i]/students[i] * 100)\n",
    "    \n",
    "##% read pass\n",
    "for i in range(0, len(raw_read_pass)):\n",
    "    read_pass.append(raw_read_pass[i]/students[i] * 100)\n",
    "    \n",
    "for i in range(0, len(read_pass)):\n",
    "    overall_score.append((math_pass[i]+read_pass[i])/2)"
   ]
  },
  {
   "cell_type": "code",
   "execution_count": 216,
   "metadata": {},
   "outputs": [
    {
     "data": {
      "text/html": [
       "<style  type=\"text/css\" >\n",
       "</style><table id=\"T_cf4f8d9e_1e46_11ea_866a_5ce0c5a418a6\" ><thead>    <tr>        <th class=\"blank level0\" ></th>        <th class=\"col_heading level0 col0\" >Type</th>        <th class=\"col_heading level0 col1\" >Total_student</th>        <th class=\"col_heading level0 col2\" >Per_Student_Budget</th>        <th class=\"col_heading level0 col3\" >Avg_Math_Score</th>        <th class=\"col_heading level0 col4\" >Avg_Reading_Score</th>        <th class=\"col_heading level0 col5\" >Percent_Passing_Math</th>        <th class=\"col_heading level0 col6\" >Percent_Passing_Reading</th>        <th class=\"col_heading level0 col7\" >Overall_Score</th>    </tr></thead><tbody>\n",
       "                <tr>\n",
       "                        <th id=\"T_cf4f8d9e_1e46_11ea_866a_5ce0c5a418a6level0_row0\" class=\"row_heading level0 row0\" >Bailey High School</th>\n",
       "                        <td id=\"T_cf4f8d9e_1e46_11ea_866a_5ce0c5a418a6row0_col0\" class=\"data row0 col0\" >['District']</td>\n",
       "                        <td id=\"T_cf4f8d9e_1e46_11ea_866a_5ce0c5a418a6row0_col1\" class=\"data row0 col1\" >4976</td>\n",
       "                        <td id=\"T_cf4f8d9e_1e46_11ea_866a_5ce0c5a418a6row0_col2\" class=\"data row0 col2\" >15549641728</td>\n",
       "                        <td id=\"T_cf4f8d9e_1e46_11ea_866a_5ce0c5a418a6row0_col3\" class=\"data row0 col3\" >77.05</td>\n",
       "                        <td id=\"T_cf4f8d9e_1e46_11ea_866a_5ce0c5a418a6row0_col4\" class=\"data row0 col4\" >81.03</td>\n",
       "                        <td id=\"T_cf4f8d9e_1e46_11ea_866a_5ce0c5a418a6row0_col5\" class=\"data row0 col5\" >66.68%</td>\n",
       "                        <td id=\"T_cf4f8d9e_1e46_11ea_866a_5ce0c5a418a6row0_col6\" class=\"data row0 col6\" >81.93%</td>\n",
       "                        <td id=\"T_cf4f8d9e_1e46_11ea_866a_5ce0c5a418a6row0_col7\" class=\"data row0 col7\" >74.31</td>\n",
       "            </tr>\n",
       "            <tr>\n",
       "                        <th id=\"T_cf4f8d9e_1e46_11ea_866a_5ce0c5a418a6level0_row1\" class=\"row_heading level0 row1\" >Cabrera High School</th>\n",
       "                        <td id=\"T_cf4f8d9e_1e46_11ea_866a_5ce0c5a418a6row1_col0\" class=\"data row1 col0\" >['Charter']</td>\n",
       "                        <td id=\"T_cf4f8d9e_1e46_11ea_866a_5ce0c5a418a6row1_col1\" class=\"data row1 col1\" >1858</td>\n",
       "                        <td id=\"T_cf4f8d9e_1e46_11ea_866a_5ce0c5a418a6row1_col2\" class=\"data row1 col2\" >2009159448</td>\n",
       "                        <td id=\"T_cf4f8d9e_1e46_11ea_866a_5ce0c5a418a6row1_col3\" class=\"data row1 col3\" >83.06</td>\n",
       "                        <td id=\"T_cf4f8d9e_1e46_11ea_866a_5ce0c5a418a6row1_col4\" class=\"data row1 col4\" >83.98</td>\n",
       "                        <td id=\"T_cf4f8d9e_1e46_11ea_866a_5ce0c5a418a6row1_col5\" class=\"data row1 col5\" >94.13%</td>\n",
       "                        <td id=\"T_cf4f8d9e_1e46_11ea_866a_5ce0c5a418a6row1_col6\" class=\"data row1 col6\" >97.04%</td>\n",
       "                        <td id=\"T_cf4f8d9e_1e46_11ea_866a_5ce0c5a418a6row1_col7\" class=\"data row1 col7\" >95.59</td>\n",
       "            </tr>\n",
       "            <tr>\n",
       "                        <th id=\"T_cf4f8d9e_1e46_11ea_866a_5ce0c5a418a6level0_row2\" class=\"row_heading level0 row2\" >Figueroa High School</th>\n",
       "                        <td id=\"T_cf4f8d9e_1e46_11ea_866a_5ce0c5a418a6row2_col0\" class=\"data row2 col0\" >['District']</td>\n",
       "                        <td id=\"T_cf4f8d9e_1e46_11ea_866a_5ce0c5a418a6row2_col1\" class=\"data row2 col1\" >2949</td>\n",
       "                        <td id=\"T_cf4f8d9e_1e46_11ea_866a_5ce0c5a418a6row2_col2\" class=\"data row2 col2\" >5557128039</td>\n",
       "                        <td id=\"T_cf4f8d9e_1e46_11ea_866a_5ce0c5a418a6row2_col3\" class=\"data row2 col3\" >76.71</td>\n",
       "                        <td id=\"T_cf4f8d9e_1e46_11ea_866a_5ce0c5a418a6row2_col4\" class=\"data row2 col4\" >81.16</td>\n",
       "                        <td id=\"T_cf4f8d9e_1e46_11ea_866a_5ce0c5a418a6row2_col5\" class=\"data row2 col5\" >65.99%</td>\n",
       "                        <td id=\"T_cf4f8d9e_1e46_11ea_866a_5ce0c5a418a6row2_col6\" class=\"data row2 col6\" >80.74%</td>\n",
       "                        <td id=\"T_cf4f8d9e_1e46_11ea_866a_5ce0c5a418a6row2_col7\" class=\"data row2 col7\" >73.36</td>\n",
       "            </tr>\n",
       "            <tr>\n",
       "                        <th id=\"T_cf4f8d9e_1e46_11ea_866a_5ce0c5a418a6level0_row3\" class=\"row_heading level0 row3\" >Ford High School</th>\n",
       "                        <td id=\"T_cf4f8d9e_1e46_11ea_866a_5ce0c5a418a6row3_col0\" class=\"data row3 col0\" >['District']</td>\n",
       "                        <td id=\"T_cf4f8d9e_1e46_11ea_866a_5ce0c5a418a6row3_col1\" class=\"data row3 col1\" >2739</td>\n",
       "                        <td id=\"T_cf4f8d9e_1e46_11ea_866a_5ce0c5a418a6row3_col2\" class=\"data row3 col2\" >4831365924</td>\n",
       "                        <td id=\"T_cf4f8d9e_1e46_11ea_866a_5ce0c5a418a6row3_col3\" class=\"data row3 col3\" >77.10</td>\n",
       "                        <td id=\"T_cf4f8d9e_1e46_11ea_866a_5ce0c5a418a6row3_col4\" class=\"data row3 col4\" >80.75</td>\n",
       "                        <td id=\"T_cf4f8d9e_1e46_11ea_866a_5ce0c5a418a6row3_col5\" class=\"data row3 col5\" >68.31%</td>\n",
       "                        <td id=\"T_cf4f8d9e_1e46_11ea_866a_5ce0c5a418a6row3_col6\" class=\"data row3 col6\" >79.30%</td>\n",
       "                        <td id=\"T_cf4f8d9e_1e46_11ea_866a_5ce0c5a418a6row3_col7\" class=\"data row3 col7\" >73.80</td>\n",
       "            </tr>\n",
       "            <tr>\n",
       "                        <th id=\"T_cf4f8d9e_1e46_11ea_866a_5ce0c5a418a6level0_row4\" class=\"row_heading level0 row4\" >Griffin High School</th>\n",
       "                        <td id=\"T_cf4f8d9e_1e46_11ea_866a_5ce0c5a418a6row4_col0\" class=\"data row4 col0\" >['Charter']</td>\n",
       "                        <td id=\"T_cf4f8d9e_1e46_11ea_866a_5ce0c5a418a6row4_col1\" class=\"data row4 col1\" >1468</td>\n",
       "                        <td id=\"T_cf4f8d9e_1e46_11ea_866a_5ce0c5a418a6row4_col2\" class=\"data row4 col2\" >1346890000</td>\n",
       "                        <td id=\"T_cf4f8d9e_1e46_11ea_866a_5ce0c5a418a6row4_col3\" class=\"data row4 col3\" >83.35</td>\n",
       "                        <td id=\"T_cf4f8d9e_1e46_11ea_866a_5ce0c5a418a6row4_col4\" class=\"data row4 col4\" >83.82</td>\n",
       "                        <td id=\"T_cf4f8d9e_1e46_11ea_866a_5ce0c5a418a6row4_col5\" class=\"data row4 col5\" >93.39%</td>\n",
       "                        <td id=\"T_cf4f8d9e_1e46_11ea_866a_5ce0c5a418a6row4_col6\" class=\"data row4 col6\" >97.14%</td>\n",
       "                        <td id=\"T_cf4f8d9e_1e46_11ea_866a_5ce0c5a418a6row4_col7\" class=\"data row4 col7\" >95.27</td>\n",
       "            </tr>\n",
       "            <tr>\n",
       "                        <th id=\"T_cf4f8d9e_1e46_11ea_866a_5ce0c5a418a6level0_row5\" class=\"row_heading level0 row5\" >Hernandez High School</th>\n",
       "                        <td id=\"T_cf4f8d9e_1e46_11ea_866a_5ce0c5a418a6row5_col0\" class=\"data row5 col0\" >['District']</td>\n",
       "                        <td id=\"T_cf4f8d9e_1e46_11ea_866a_5ce0c5a418a6row5_col1\" class=\"data row5 col1\" >4635</td>\n",
       "                        <td id=\"T_cf4f8d9e_1e46_11ea_866a_5ce0c5a418a6row5_col2\" class=\"data row5 col2\" >14007062700</td>\n",
       "                        <td id=\"T_cf4f8d9e_1e46_11ea_866a_5ce0c5a418a6row5_col3\" class=\"data row5 col3\" >77.29</td>\n",
       "                        <td id=\"T_cf4f8d9e_1e46_11ea_866a_5ce0c5a418a6row5_col4\" class=\"data row5 col4\" >80.93</td>\n",
       "                        <td id=\"T_cf4f8d9e_1e46_11ea_866a_5ce0c5a418a6row5_col5\" class=\"data row5 col5\" >66.75%</td>\n",
       "                        <td id=\"T_cf4f8d9e_1e46_11ea_866a_5ce0c5a418a6row5_col6\" class=\"data row5 col6\" >80.86%</td>\n",
       "                        <td id=\"T_cf4f8d9e_1e46_11ea_866a_5ce0c5a418a6row5_col7\" class=\"data row5 col7\" >73.81</td>\n",
       "            </tr>\n",
       "            <tr>\n",
       "                        <th id=\"T_cf4f8d9e_1e46_11ea_866a_5ce0c5a418a6level0_row6\" class=\"row_heading level0 row6\" >Holden High School</th>\n",
       "                        <td id=\"T_cf4f8d9e_1e46_11ea_866a_5ce0c5a418a6row6_col0\" class=\"data row6 col0\" >['Charter']</td>\n",
       "                        <td id=\"T_cf4f8d9e_1e46_11ea_866a_5ce0c5a418a6row6_col1\" class=\"data row6 col1\" >427</td>\n",
       "                        <td id=\"T_cf4f8d9e_1e46_11ea_866a_5ce0c5a418a6row6_col2\" class=\"data row6 col2\" >105933149</td>\n",
       "                        <td id=\"T_cf4f8d9e_1e46_11ea_866a_5ce0c5a418a6row6_col3\" class=\"data row6 col3\" >83.80</td>\n",
       "                        <td id=\"T_cf4f8d9e_1e46_11ea_866a_5ce0c5a418a6row6_col4\" class=\"data row6 col4\" >83.81</td>\n",
       "                        <td id=\"T_cf4f8d9e_1e46_11ea_866a_5ce0c5a418a6row6_col5\" class=\"data row6 col5\" >92.51%</td>\n",
       "                        <td id=\"T_cf4f8d9e_1e46_11ea_866a_5ce0c5a418a6row6_col6\" class=\"data row6 col6\" >96.25%</td>\n",
       "                        <td id=\"T_cf4f8d9e_1e46_11ea_866a_5ce0c5a418a6row6_col7\" class=\"data row6 col7\" >94.38</td>\n",
       "            </tr>\n",
       "            <tr>\n",
       "                        <th id=\"T_cf4f8d9e_1e46_11ea_866a_5ce0c5a418a6level0_row7\" class=\"row_heading level0 row7\" >Huang High School</th>\n",
       "                        <td id=\"T_cf4f8d9e_1e46_11ea_866a_5ce0c5a418a6row7_col0\" class=\"data row7 col0\" >['District']</td>\n",
       "                        <td id=\"T_cf4f8d9e_1e46_11ea_866a_5ce0c5a418a6row7_col1\" class=\"data row7 col1\" >2917</td>\n",
       "                        <td id=\"T_cf4f8d9e_1e46_11ea_866a_5ce0c5a418a6row7_col2\" class=\"data row7 col2\" >5573322295</td>\n",
       "                        <td id=\"T_cf4f8d9e_1e46_11ea_866a_5ce0c5a418a6row7_col3\" class=\"data row7 col3\" >76.63</td>\n",
       "                        <td id=\"T_cf4f8d9e_1e46_11ea_866a_5ce0c5a418a6row7_col4\" class=\"data row7 col4\" >81.18</td>\n",
       "                        <td id=\"T_cf4f8d9e_1e46_11ea_866a_5ce0c5a418a6row7_col5\" class=\"data row7 col5\" >65.68%</td>\n",
       "                        <td id=\"T_cf4f8d9e_1e46_11ea_866a_5ce0c5a418a6row7_col6\" class=\"data row7 col6\" >81.32%</td>\n",
       "                        <td id=\"T_cf4f8d9e_1e46_11ea_866a_5ce0c5a418a6row7_col7\" class=\"data row7 col7\" >73.50</td>\n",
       "            </tr>\n",
       "            <tr>\n",
       "                        <th id=\"T_cf4f8d9e_1e46_11ea_866a_5ce0c5a418a6level0_row8\" class=\"row_heading level0 row8\" >Johnson High School</th>\n",
       "                        <td id=\"T_cf4f8d9e_1e46_11ea_866a_5ce0c5a418a6row8_col0\" class=\"data row8 col0\" >['District']</td>\n",
       "                        <td id=\"T_cf4f8d9e_1e46_11ea_866a_5ce0c5a418a6row8_col1\" class=\"data row8 col1\" >4761</td>\n",
       "                        <td id=\"T_cf4f8d9e_1e46_11ea_866a_5ce0c5a418a6row8_col2\" class=\"data row8 col2\" >14733628650</td>\n",
       "                        <td id=\"T_cf4f8d9e_1e46_11ea_866a_5ce0c5a418a6row8_col3\" class=\"data row8 col3\" >77.07</td>\n",
       "                        <td id=\"T_cf4f8d9e_1e46_11ea_866a_5ce0c5a418a6row8_col4\" class=\"data row8 col4\" >80.97</td>\n",
       "                        <td id=\"T_cf4f8d9e_1e46_11ea_866a_5ce0c5a418a6row8_col5\" class=\"data row8 col5\" >66.06%</td>\n",
       "                        <td id=\"T_cf4f8d9e_1e46_11ea_866a_5ce0c5a418a6row8_col6\" class=\"data row8 col6\" >81.22%</td>\n",
       "                        <td id=\"T_cf4f8d9e_1e46_11ea_866a_5ce0c5a418a6row8_col7\" class=\"data row8 col7\" >73.64</td>\n",
       "            </tr>\n",
       "            <tr>\n",
       "                        <th id=\"T_cf4f8d9e_1e46_11ea_866a_5ce0c5a418a6level0_row9\" class=\"row_heading level0 row9\" >Pena High School</th>\n",
       "                        <td id=\"T_cf4f8d9e_1e46_11ea_866a_5ce0c5a418a6row9_col0\" class=\"data row9 col0\" >['Charter']</td>\n",
       "                        <td id=\"T_cf4f8d9e_1e46_11ea_866a_5ce0c5a418a6row9_col1\" class=\"data row9 col1\" >962</td>\n",
       "                        <td id=\"T_cf4f8d9e_1e46_11ea_866a_5ce0c5a418a6row9_col2\" class=\"data row9 col2\" >563595396</td>\n",
       "                        <td id=\"T_cf4f8d9e_1e46_11ea_866a_5ce0c5a418a6row9_col3\" class=\"data row9 col3\" >83.84</td>\n",
       "                        <td id=\"T_cf4f8d9e_1e46_11ea_866a_5ce0c5a418a6row9_col4\" class=\"data row9 col4\" >84.04</td>\n",
       "                        <td id=\"T_cf4f8d9e_1e46_11ea_866a_5ce0c5a418a6row9_col5\" class=\"data row9 col5\" >94.59%</td>\n",
       "                        <td id=\"T_cf4f8d9e_1e46_11ea_866a_5ce0c5a418a6row9_col6\" class=\"data row9 col6\" >95.95%</td>\n",
       "                        <td id=\"T_cf4f8d9e_1e46_11ea_866a_5ce0c5a418a6row9_col7\" class=\"data row9 col7\" >95.27</td>\n",
       "            </tr>\n",
       "            <tr>\n",
       "                        <th id=\"T_cf4f8d9e_1e46_11ea_866a_5ce0c5a418a6level0_row10\" class=\"row_heading level0 row10\" >Rodriguez High School</th>\n",
       "                        <td id=\"T_cf4f8d9e_1e46_11ea_866a_5ce0c5a418a6row10_col0\" class=\"data row10 col0\" >['District']</td>\n",
       "                        <td id=\"T_cf4f8d9e_1e46_11ea_866a_5ce0c5a418a6row10_col1\" class=\"data row10 col1\" >3999</td>\n",
       "                        <td id=\"T_cf4f8d9e_1e46_11ea_866a_5ce0c5a418a6row10_col2\" class=\"data row10 col2\" >10186904637</td>\n",
       "                        <td id=\"T_cf4f8d9e_1e46_11ea_866a_5ce0c5a418a6row10_col3\" class=\"data row10 col3\" >76.84</td>\n",
       "                        <td id=\"T_cf4f8d9e_1e46_11ea_866a_5ce0c5a418a6row10_col4\" class=\"data row10 col4\" >80.74</td>\n",
       "                        <td id=\"T_cf4f8d9e_1e46_11ea_866a_5ce0c5a418a6row10_col5\" class=\"data row10 col5\" >66.37%</td>\n",
       "                        <td id=\"T_cf4f8d9e_1e46_11ea_866a_5ce0c5a418a6row10_col6\" class=\"data row10 col6\" >80.22%</td>\n",
       "                        <td id=\"T_cf4f8d9e_1e46_11ea_866a_5ce0c5a418a6row10_col7\" class=\"data row10 col7\" >73.29</td>\n",
       "            </tr>\n",
       "            <tr>\n",
       "                        <th id=\"T_cf4f8d9e_1e46_11ea_866a_5ce0c5a418a6level0_row11\" class=\"row_heading level0 row11\" >Shelton High School</th>\n",
       "                        <td id=\"T_cf4f8d9e_1e46_11ea_866a_5ce0c5a418a6row11_col0\" class=\"data row11 col0\" >['Charter']</td>\n",
       "                        <td id=\"T_cf4f8d9e_1e46_11ea_866a_5ce0c5a418a6row11_col1\" class=\"data row11 col1\" >1761</td>\n",
       "                        <td id=\"T_cf4f8d9e_1e46_11ea_866a_5ce0c5a418a6row11_col2\" class=\"data row11 col2\" >1860672600</td>\n",
       "                        <td id=\"T_cf4f8d9e_1e46_11ea_866a_5ce0c5a418a6row11_col3\" class=\"data row11 col3\" >83.36</td>\n",
       "                        <td id=\"T_cf4f8d9e_1e46_11ea_866a_5ce0c5a418a6row11_col4\" class=\"data row11 col4\" >83.73</td>\n",
       "                        <td id=\"T_cf4f8d9e_1e46_11ea_866a_5ce0c5a418a6row11_col5\" class=\"data row11 col5\" >93.87%</td>\n",
       "                        <td id=\"T_cf4f8d9e_1e46_11ea_866a_5ce0c5a418a6row11_col6\" class=\"data row11 col6\" >95.85%</td>\n",
       "                        <td id=\"T_cf4f8d9e_1e46_11ea_866a_5ce0c5a418a6row11_col7\" class=\"data row11 col7\" >94.86</td>\n",
       "            </tr>\n",
       "            <tr>\n",
       "                        <th id=\"T_cf4f8d9e_1e46_11ea_866a_5ce0c5a418a6level0_row12\" class=\"row_heading level0 row12\" >Thomas High School</th>\n",
       "                        <td id=\"T_cf4f8d9e_1e46_11ea_866a_5ce0c5a418a6row12_col0\" class=\"data row12 col0\" >['Charter']</td>\n",
       "                        <td id=\"T_cf4f8d9e_1e46_11ea_866a_5ce0c5a418a6row12_col1\" class=\"data row12 col1\" >1635</td>\n",
       "                        <td id=\"T_cf4f8d9e_1e46_11ea_866a_5ce0c5a418a6row12_col2\" class=\"data row12 col2\" >1705517550</td>\n",
       "                        <td id=\"T_cf4f8d9e_1e46_11ea_866a_5ce0c5a418a6row12_col3\" class=\"data row12 col3\" >83.42</td>\n",
       "                        <td id=\"T_cf4f8d9e_1e46_11ea_866a_5ce0c5a418a6row12_col4\" class=\"data row12 col4\" >83.85</td>\n",
       "                        <td id=\"T_cf4f8d9e_1e46_11ea_866a_5ce0c5a418a6row12_col5\" class=\"data row12 col5\" >93.27%</td>\n",
       "                        <td id=\"T_cf4f8d9e_1e46_11ea_866a_5ce0c5a418a6row12_col6\" class=\"data row12 col6\" >97.31%</td>\n",
       "                        <td id=\"T_cf4f8d9e_1e46_11ea_866a_5ce0c5a418a6row12_col7\" class=\"data row12 col7\" >95.29</td>\n",
       "            </tr>\n",
       "            <tr>\n",
       "                        <th id=\"T_cf4f8d9e_1e46_11ea_866a_5ce0c5a418a6level0_row13\" class=\"row_heading level0 row13\" >Wilson High School</th>\n",
       "                        <td id=\"T_cf4f8d9e_1e46_11ea_866a_5ce0c5a418a6row13_col0\" class=\"data row13 col0\" >['Charter']</td>\n",
       "                        <td id=\"T_cf4f8d9e_1e46_11ea_866a_5ce0c5a418a6row13_col1\" class=\"data row13 col1\" >2283</td>\n",
       "                        <td id=\"T_cf4f8d9e_1e46_11ea_866a_5ce0c5a418a6row13_col2\" class=\"data row13 col2\" >3012587442</td>\n",
       "                        <td id=\"T_cf4f8d9e_1e46_11ea_866a_5ce0c5a418a6row13_col3\" class=\"data row13 col3\" >83.27</td>\n",
       "                        <td id=\"T_cf4f8d9e_1e46_11ea_866a_5ce0c5a418a6row13_col4\" class=\"data row13 col4\" >83.99</td>\n",
       "                        <td id=\"T_cf4f8d9e_1e46_11ea_866a_5ce0c5a418a6row13_col5\" class=\"data row13 col5\" >93.87%</td>\n",
       "                        <td id=\"T_cf4f8d9e_1e46_11ea_866a_5ce0c5a418a6row13_col6\" class=\"data row13 col6\" >96.54%</td>\n",
       "                        <td id=\"T_cf4f8d9e_1e46_11ea_866a_5ce0c5a418a6row13_col7\" class=\"data row13 col7\" >95.20</td>\n",
       "            </tr>\n",
       "            <tr>\n",
       "                        <th id=\"T_cf4f8d9e_1e46_11ea_866a_5ce0c5a418a6level0_row14\" class=\"row_heading level0 row14\" >Wright High School</th>\n",
       "                        <td id=\"T_cf4f8d9e_1e46_11ea_866a_5ce0c5a418a6row14_col0\" class=\"data row14 col0\" >['Charter']</td>\n",
       "                        <td id=\"T_cf4f8d9e_1e46_11ea_866a_5ce0c5a418a6row14_col1\" class=\"data row14 col1\" >1800</td>\n",
       "                        <td id=\"T_cf4f8d9e_1e46_11ea_866a_5ce0c5a418a6row14_col2\" class=\"data row14 col2\" >1888920000</td>\n",
       "                        <td id=\"T_cf4f8d9e_1e46_11ea_866a_5ce0c5a418a6row14_col3\" class=\"data row14 col3\" >83.68</td>\n",
       "                        <td id=\"T_cf4f8d9e_1e46_11ea_866a_5ce0c5a418a6row14_col4\" class=\"data row14 col4\" >83.95</td>\n",
       "                        <td id=\"T_cf4f8d9e_1e46_11ea_866a_5ce0c5a418a6row14_col5\" class=\"data row14 col5\" >93.33%</td>\n",
       "                        <td id=\"T_cf4f8d9e_1e46_11ea_866a_5ce0c5a418a6row14_col6\" class=\"data row14 col6\" >96.61%</td>\n",
       "                        <td id=\"T_cf4f8d9e_1e46_11ea_866a_5ce0c5a418a6row14_col7\" class=\"data row14 col7\" >94.97</td>\n",
       "            </tr>\n",
       "    </tbody></table>"
      ],
      "text/plain": [
       "<pandas.io.formats.style.Styler at 0x1f91c7a7b88>"
      ]
     },
     "execution_count": 216,
     "metadata": {},
     "output_type": "execute_result"
    }
   ],
   "source": [
    "#Put it all in a data frame\n",
    "\n",
    "school_df = pd.DataFrame({\n",
    "    'Type': typ3,\n",
    "    'Total_student' : students,\n",
    "    'Per_Student_Budget' : per_stu_bud,\n",
    "    'Avg_Math_Score' : math_means,\n",
    "    'Avg_Reading_Score' : read_means,\n",
    "    'Percent_Passing_Math' : math_pass,\n",
    "    'Percent_Passing_Reading': read_pass,\n",
    "    'Overall_Score' : overall_score},\n",
    "    index = skoolname).style.format({\"Avg_Math_Score\": \"{:,.2f}\", \n",
    "                          \"Avg_Reading_Score\": \"{:,.2f}\", \n",
    "                          \"Percent_Passing_Math\": \"{:,.2f}%\",\n",
    "                          \"Percent_Passing_Reading\":\"{:,.2f}%\",\n",
    "                           \"Overall_Score\":\"{:,.2f}\"})\n",
    "\n",
    "school_df\n",
    "\n",
    "\n",
    "\n"
   ]
  },
  {
   "cell_type": "markdown",
   "metadata": {},
   "source": [
    "## Top Performing Schools (By Passing Rate)"
   ]
  },
  {
   "cell_type": "markdown",
   "metadata": {},
   "source": [
    "* Sort and display the top five schools in overall passing rate"
   ]
  },
  {
   "cell_type": "code",
   "execution_count": null,
   "metadata": {},
   "outputs": [],
   "source": []
  },
  {
   "cell_type": "markdown",
   "metadata": {},
   "source": [
    "## Bottom Performing Schools (By Passing Rate)"
   ]
  },
  {
   "cell_type": "markdown",
   "metadata": {},
   "source": [
    "* Sort and display the five worst-performing schools"
   ]
  },
  {
   "cell_type": "code",
   "execution_count": null,
   "metadata": {},
   "outputs": [],
   "source": []
  },
  {
   "cell_type": "markdown",
   "metadata": {},
   "source": [
    "## Math Scores by Grade"
   ]
  },
  {
   "cell_type": "markdown",
   "metadata": {},
   "source": [
    "* Create a table that lists the average Reading Score for students of each grade level (9th, 10th, 11th, 12th) at each school.\n",
    "\n",
    "  * Create a pandas series for each grade. Hint: use a conditional statement.\n",
    "  \n",
    "  * Group each series by school\n",
    "  \n",
    "  * Combine the series into a dataframe\n",
    "  \n",
    "  * Optional: give the displayed data cleaner formatting"
   ]
  },
  {
   "cell_type": "code",
   "execution_count": null,
   "metadata": {},
   "outputs": [],
   "source": []
  },
  {
   "cell_type": "markdown",
   "metadata": {},
   "source": [
    "## Reading Score by Grade "
   ]
  },
  {
   "cell_type": "markdown",
   "metadata": {},
   "source": [
    "* Perform the same operations as above for reading scores"
   ]
  },
  {
   "cell_type": "code",
   "execution_count": null,
   "metadata": {},
   "outputs": [],
   "source": []
  },
  {
   "cell_type": "markdown",
   "metadata": {},
   "source": [
    "## Scores by School Spending"
   ]
  },
  {
   "cell_type": "markdown",
   "metadata": {},
   "source": [
    "* Create a table that breaks down school performances based on average Spending Ranges (Per Student). Use 4 reasonable bins to group school spending. Include in the table each of the following:\n",
    "  * Average Math Score\n",
    "  * Average Reading Score\n",
    "  * % Passing Math\n",
    "  * % Passing Reading\n",
    "  * Overall Passing Rate (Average of the above two)"
   ]
  },
  {
   "cell_type": "code",
   "execution_count": 188,
   "metadata": {},
   "outputs": [],
   "source": [
    "# Sample bins. Feel free to create your own bins.\n",
    "spending_bins = [0, 585, 615, 645, 675]\n",
    "group_names = [\"<$585\", \"$585-615\", \"$615-645\", \"$645-675\"]"
   ]
  },
  {
   "cell_type": "code",
   "execution_count": 213,
   "metadata": {},
   "outputs": [
    {
     "name": "stdout",
     "output_type": "stream",
     "text": [
      "0          (77.0, 81.4]\n",
      "1          (59.4, 63.8]\n",
      "2          (59.4, 63.8]\n",
      "3        (54.956, 59.4]\n",
      "4          (81.4, 85.8]\n",
      "              ...      \n",
      "39165      (85.8, 90.2]\n",
      "39166      (68.2, 72.6]\n",
      "39167      (81.4, 85.8]\n",
      "39168      (85.8, 90.2]\n",
      "39169      (72.6, 77.0]\n",
      "Name: math_score, Length: 39170, dtype: category\n",
      "Categories (10, interval[float64]): [(54.956, 59.4] < (59.4, 63.8] < (63.8, 68.2] < (68.2, 72.6] ... (81.4, 85.8] < (85.8, 90.2] < (90.2, 94.6] < (94.6, 99.0]]\n"
     ]
    },
    {
     "data": {
      "text/plain": [
       "0        b\n",
       "1        c\n",
       "2        D\n",
       "3        D\n",
       "4        a\n",
       "        ..\n",
       "39165    a\n",
       "39166    c\n",
       "39167    a\n",
       "39168    a\n",
       "39169    b\n",
       "Name: math_score, Length: 39170, dtype: category\n",
       "Categories (4, object): [D < c < b < a]"
      ]
     },
     "execution_count": 213,
     "metadata": {},
     "output_type": "execute_result"
    }
   ],
   "source": [
    "##class note lol\n",
    "print(pd.cut(x=data.math_score, bins = 10))\n",
    "\n",
    "pd.cut(x=data.math_score, bins = [0, 60, 70, 80, 90],labels = ['D', 'c', 'b', 'a'],  )"
   ]
  },
  {
   "cell_type": "markdown",
   "metadata": {},
   "source": [
    "## Scores by School Size"
   ]
  },
  {
   "cell_type": "markdown",
   "metadata": {},
   "source": [
    "* Perform the same operations as above, based on school size."
   ]
  },
  {
   "cell_type": "code",
   "execution_count": 191,
   "metadata": {},
   "outputs": [],
   "source": [
    "# Sample bins. Feel free to create your own bins.\n",
    "size_bins = [0, 1000, 2000, 5000]\n",
    "group_names = [\"Small (<1000)\", \"Medium (1000-2000)\", \"Large (2000-5000)\"]"
   ]
  },
  {
   "cell_type": "code",
   "execution_count": 192,
   "metadata": {
    "scrolled": true
   },
   "outputs": [
    {
     "data": {
      "text/plain": [
       "0        NaN\n",
       "1        NaN\n",
       "2        NaN\n",
       "3        NaN\n",
       "4        NaN\n",
       "        ... \n",
       "39165    NaN\n",
       "39166    NaN\n",
       "39167    NaN\n",
       "39168    NaN\n",
       "39169    NaN\n",
       "Name: budget, Length: 39170, dtype: category\n",
       "Categories (3, interval[int64]): [(0, 1000] < (1000, 2000] < (2000, 5000]]"
      ]
     },
     "execution_count": 192,
     "metadata": {},
     "output_type": "execute_result"
    }
   ],
   "source": [
    "pd.cut(x=data.budget, bins = size_bins)"
   ]
  },
  {
   "cell_type": "markdown",
   "metadata": {},
   "source": [
    "## Scores by School Type"
   ]
  },
  {
   "cell_type": "markdown",
   "metadata": {},
   "source": [
    "* Perform the same operations as above, based on school type."
   ]
  },
  {
   "cell_type": "code",
   "execution_count": null,
   "metadata": {},
   "outputs": [],
   "source": []
  },
  {
   "cell_type": "code",
   "execution_count": null,
   "metadata": {},
   "outputs": [],
   "source": []
  }
 ],
 "metadata": {
  "anaconda-cloud": {},
  "kernel_info": {
   "name": "python3"
  },
  "kernelspec": {
   "display_name": "Python 3",
   "language": "python",
   "name": "python3"
  },
  "language_info": {
   "codemirror_mode": {
    "name": "ipython",
    "version": 3
   },
   "file_extension": ".py",
   "mimetype": "text/x-python",
   "name": "python",
   "nbconvert_exporter": "python",
   "pygments_lexer": "ipython3",
   "version": "3.7.4"
  },
  "latex_envs": {
   "LaTeX_envs_menu_present": true,
   "autoclose": false,
   "autocomplete": true,
   "bibliofile": "biblio.bib",
   "cite_by": "apalike",
   "current_citInitial": 1,
   "eqLabelWithNumbers": true,
   "eqNumInitial": 1,
   "hotkeys": {
    "equation": "Ctrl-E",
    "itemize": "Ctrl-I"
   },
   "labels_anchors": false,
   "latex_user_defs": false,
   "report_style_numbering": false,
   "user_envs_cfg": false
  },
  "nteract": {
   "version": "0.8.4"
  }
 },
 "nbformat": 4,
 "nbformat_minor": 4
}
