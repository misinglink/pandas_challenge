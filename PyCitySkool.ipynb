{
 "cells": [
  {
   "cell_type": "markdown",
   "metadata": {},
   "source": [
    "### Note\n",
    "* Instructions have been included for each segment. You do not have to follow them exactly, but they are included to help you think through the steps."
   ]
  },
  {
   "cell_type": "code",
   "execution_count": 2,
   "metadata": {},
   "outputs": [],
   "source": [
    "# Dependencies and Setup\n",
    "import pandas as pd\n",
    "import numpy as np\n",
    "\n",
    "# File to Load (Remember to Change These)\n",
    "school_data_to_load = \"schools_complete.csv\"\n",
    "student_data_to_load = \"students_complete.csv\"\n",
    "\n",
    "# Read School and Student Data File and store into Pandas Data Frames\n",
    "school_data = pd.read_csv(school_data_to_load)\n",
    "student_data = pd.read_csv(student_data_to_load)\n",
    "\n",
    "# Combine the data into a single dataset\n",
    "data = pd.merge(student_data, school_data, how=\"left\", on=[\"school_name\", \"school_name\"])"
   ]
  },
  {
   "cell_type": "markdown",
   "metadata": {},
   "source": [
    "## District Summary\n",
    "\n",
    "* Calculate the total number of schools\n",
    "\n",
    "* Calculate the total number of students\n",
    "\n",
    "* Calculate the total budget\n",
    "\n",
    "* Calculate the average math score \n",
    "\n",
    "* Calculate the average reading score\n",
    "\n",
    "* Calculate the overall passing rate (overall average score), i.e. (avg. math score + avg. reading score)/2\n",
    "\n",
    "* Calculate the percentage of students with a passing math score (70 or greater)\n",
    "\n",
    "* Calculate the percentage of students with a passing reading score (70 or greater)\n",
    "\n",
    "* Create a dataframe to hold the above results\n",
    "\n",
    "* Optional: give the displayed data cleaner formatting"
   ]
  },
  {
   "cell_type": "code",
   "execution_count": 5,
   "metadata": {},
   "outputs": [
    {
     "data": {
      "text/plain": [
       "0    15\n",
       "dtype: int64"
      ]
     },
     "execution_count": 5,
     "metadata": {},
     "output_type": "execute_result"
    }
   ],
   "source": [
    "schools = pd.DataFrame(pd.unique(data['school_name'])) ##if i remember right argument return a list..\n",
    "schools.count()\n",
    "##it works"
   ]
  },
  {
   "cell_type": "code",
   "execution_count": 4,
   "metadata": {},
   "outputs": [],
   "source": [
    "total_schools = data['school_name'].value_counts().count()"
   ]
  },
  {
   "cell_type": "code",
   "execution_count": 5,
   "metadata": {},
   "outputs": [],
   "source": [
    "#Total Budget\n",
    "total_budget = data.budget.sum()"
   ]
  },
  {
   "cell_type": "code",
   "execution_count": 11,
   "metadata": {},
   "outputs": [],
   "source": [
    "#total students\n",
    "total_stu = len(data)"
   ]
  },
  {
   "cell_type": "code",
   "execution_count": 12,
   "metadata": {},
   "outputs": [],
   "source": [
    "#Calculate the average math score\n",
    "avg_m = format(data.math_score.mean(), '.2f')"
   ]
  },
  {
   "cell_type": "code",
   "execution_count": 13,
   "metadata": {},
   "outputs": [],
   "source": [
    "#Calculate the average reading score\n",
    "avg_r = format(data.reading_score.mean(), '.2f')"
   ]
  },
  {
   "cell_type": "code",
   "execution_count": 14,
   "metadata": {},
   "outputs": [],
   "source": [
    "#Calculate the overall passing rate (overall average score), i.e. (avg. math score + avg. reading score)/2\n",
    "overall = format((float(avg_r) + float(avg_m))/2, '.2f')"
   ]
  },
  {
   "cell_type": "code",
   "execution_count": 15,
   "metadata": {},
   "outputs": [],
   "source": [
    "#Calculate the percentage of students with a passing math score (70 or greater)\n",
    "pass_m = pd.Series(data.math_score > 70)\n",
    "pass_mm = pass_m.sum()\n",
    "pass_m_per = format((pass_m.sum()/len(data.index)) *100, '.2f')"
   ]
  },
  {
   "cell_type": "code",
   "execution_count": 16,
   "metadata": {},
   "outputs": [],
   "source": [
    "#Calculate the percentage of students with a passing reading score (70 or greater)\n",
    "pass_r = pd.Series(data.reading_score > 70) ##makes a boolean series \n",
    "pass_rr = pass_r.sum() ##sums amounts of 'True'...somehow...\n",
    "pass_r_per = format((pass_r.sum()/len(data)) *100, '.2f') ## maths :D"
   ]
  },
  {
   "cell_type": "code",
   "execution_count": 17,
   "metadata": {},
   "outputs": [
    {
     "name": "stdout",
     "output_type": "stream",
     "text": [
      "                          Avgs\n",
      "total_schools               15\n",
      "total_students           39170\n",
      "total_budget       82932329558\n",
      "avg_math_score           78.99\n",
      "avg_reading_score        81.88\n",
      "math_passing             72.39\n",
      "reading_passing          82.97\n",
      "overall_score            80.44\n"
     ]
    }
   ],
   "source": [
    "#Create a dataframe to hold the above results\n",
    "ind = ['total_schools', 'total_students', 'total_budget',\n",
    "       'avg_math_score', 'avg_reading_score', 'math_passing', \n",
    "      'reading_passing', 'overall_score'\n",
    "      ]\n",
    "##have to make list before series or data frame\n",
    "avgs = pd.DataFrame([total_schools, total_stu, total_budget, avg_m, avg_r, pass_m_per, pass_r_per, overall], \n",
    "                    columns = ['Avgs'],index = ind)\n",
    "print(avgs)\n",
    "\n"
   ]
  },
  {
   "cell_type": "markdown",
   "metadata": {},
   "source": [
    "## School Summary"
   ]
  },
  {
   "cell_type": "markdown",
   "metadata": {},
   "source": [
    "* Create an overview table that summarizes key metrics about each school, including:\n",
    "  * School Name\n",
    "  * School Type\n",
    "  * Total Students\n",
    "  * Total School Budget\n",
    "  * Per Student Budget\n",
    "  * Average Math Score\n",
    "  * Average Reading Score\n",
    "  * % Passing Math\n",
    "  * % Passing Reading\n",
    "  * Overall Passing Rate (Average of the above two)\n",
    "  \n",
    "* Create a dataframe to hold the above results"
   ]
  },
  {
   "cell_type": "code",
   "execution_count": 19,
   "metadata": {},
   "outputs": [
    {
     "name": "stdout",
     "output_type": "stream",
     "text": [
      "['Bailey High School' 'Cabrera High School' 'Figueroa High School'\n",
      " 'Ford High School' 'Griffin High School' 'Hernandez High School'\n",
      " 'Holden High School' 'Huang High School' 'Johnson High School'\n",
      " 'Pena High School' 'Rodriguez High School' 'Shelton High School'\n",
      " 'Thomas High School' 'Wilson High School' 'Wright High School']\n"
     ]
    }
   ],
   "source": [
    "##create list of school name to set as index \n",
    "skoolname = data.school_name.sort_values().unique()  ##have to do sort values first, .unique first creates nparray\n",
    "print(skoolname)\n",
    "##maybe not best cause of sorting but IDK #i think loop methodwill keep sorted"
   ]
  },
  {
   "cell_type": "code",
   "execution_count": 28,
   "metadata": {},
   "outputs": [],
   "source": [
    "#total school students\n",
    "\n",
    "students = data['school_name'].value_counts()\n",
    "div = list(students)"
   ]
  },
  {
   "cell_type": "code",
   "execution_count": 29,
   "metadata": {},
   "outputs": [],
   "source": [
    "##skool type list\n",
    "typ3 = []\n",
    "for skol in skoolname:\n",
    "    typee = str(data[data[\"school_name\"].str.startswith(skol)].type.unique())\n",
    "    typ3.append(typee) \n",
    "##there has to be a better way\n",
    "#this gives list of strings of lists "
   ]
  },
  {
   "cell_type": "code",
   "execution_count": 30,
   "metadata": {},
   "outputs": [],
   "source": [
    "#Total School Budget\n",
    "budgets = []\n",
    "for skol in skoolname:\n",
    "    bud = data[data[\"school_name\"].str.startswith(skol)].budget.sum()\n",
    "    budgets.append(bud)\n",
    "    "
   ]
  },
  {
   "cell_type": "code",
   "execution_count": 30,
   "metadata": {},
   "outputs": [],
   "source": [
    "#Per Student Budget\n",
    "per_stu_bud = []\n",
    "for i in range(0, len(budgets)+1):\n",
    "    "
   ]
  },
  {
   "cell_type": "code",
   "execution_count": 25,
   "metadata": {},
   "outputs": [],
   "source": [
    "#Average Math Score\n",
    "math_means = []\n",
    "for skol in skoolname:\n",
    "    mean = data[data[\"school_name\"].str.startswith(skol)].math_score.mean()\n",
    "    math_means.append(mean) \n",
    "##it works but format floats"
   ]
  },
  {
   "cell_type": "code",
   "execution_count": 25,
   "metadata": {},
   "outputs": [],
   "source": [
    "#Average Reading Score\n",
    "read_means = []\n",
    "for skol in skoolname:\n",
    "    mean = data[data[\"school_name\"].str.startswith(skol)].reading_score.mean()\n",
    "    read_means.append(mean) \n",
    "##it works but format floats"
   ]
  },
  {
   "cell_type": "code",
   "execution_count": 18,
   "metadata": {},
   "outputs": [],
   "source": [
    "#% Passing Math\n",
    "#% Passing Reading\n",
    "#Overall Passing Rate (Average of the above two)"
   ]
  },
  {
   "cell_type": "markdown",
   "metadata": {},
   "source": [
    "## Top Performing Schools (By Passing Rate)"
   ]
  },
  {
   "cell_type": "markdown",
   "metadata": {},
   "source": [
    "* Sort and display the top five schools in overall passing rate"
   ]
  },
  {
   "cell_type": "code",
   "execution_count": null,
   "metadata": {},
   "outputs": [],
   "source": []
  },
  {
   "cell_type": "markdown",
   "metadata": {},
   "source": [
    "## Bottom Performing Schools (By Passing Rate)"
   ]
  },
  {
   "cell_type": "markdown",
   "metadata": {},
   "source": [
    "* Sort and display the five worst-performing schools"
   ]
  },
  {
   "cell_type": "code",
   "execution_count": null,
   "metadata": {},
   "outputs": [],
   "source": []
  },
  {
   "cell_type": "markdown",
   "metadata": {},
   "source": [
    "## Math Scores by Grade"
   ]
  },
  {
   "cell_type": "markdown",
   "metadata": {},
   "source": [
    "* Create a table that lists the average Reading Score for students of each grade level (9th, 10th, 11th, 12th) at each school.\n",
    "\n",
    "  * Create a pandas series for each grade. Hint: use a conditional statement.\n",
    "  \n",
    "  * Group each series by school\n",
    "  \n",
    "  * Combine the series into a dataframe\n",
    "  \n",
    "  * Optional: give the displayed data cleaner formatting"
   ]
  },
  {
   "cell_type": "code",
   "execution_count": null,
   "metadata": {},
   "outputs": [],
   "source": []
  },
  {
   "cell_type": "markdown",
   "metadata": {},
   "source": [
    "## Reading Score by Grade "
   ]
  },
  {
   "cell_type": "markdown",
   "metadata": {},
   "source": [
    "* Perform the same operations as above for reading scores"
   ]
  },
  {
   "cell_type": "code",
   "execution_count": null,
   "metadata": {},
   "outputs": [],
   "source": []
  },
  {
   "cell_type": "markdown",
   "metadata": {},
   "source": [
    "## Scores by School Spending"
   ]
  },
  {
   "cell_type": "markdown",
   "metadata": {},
   "source": [
    "* Create a table that breaks down school performances based on average Spending Ranges (Per Student). Use 4 reasonable bins to group school spending. Include in the table each of the following:\n",
    "  * Average Math Score\n",
    "  * Average Reading Score\n",
    "  * % Passing Math\n",
    "  * % Passing Reading\n",
    "  * Overall Passing Rate (Average of the above two)"
   ]
  },
  {
   "cell_type": "code",
   "execution_count": 188,
   "metadata": {},
   "outputs": [],
   "source": [
    "# Sample bins. Feel free to create your own bins.\n",
    "spending_bins = [0, 585, 615, 645, 675]\n",
    "group_names = [\"<$585\", \"$585-615\", \"$615-645\", \"$645-675\"]"
   ]
  },
  {
   "cell_type": "code",
   "execution_count": 213,
   "metadata": {},
   "outputs": [
    {
     "name": "stdout",
     "output_type": "stream",
     "text": [
      "0          (77.0, 81.4]\n",
      "1          (59.4, 63.8]\n",
      "2          (59.4, 63.8]\n",
      "3        (54.956, 59.4]\n",
      "4          (81.4, 85.8]\n",
      "              ...      \n",
      "39165      (85.8, 90.2]\n",
      "39166      (68.2, 72.6]\n",
      "39167      (81.4, 85.8]\n",
      "39168      (85.8, 90.2]\n",
      "39169      (72.6, 77.0]\n",
      "Name: math_score, Length: 39170, dtype: category\n",
      "Categories (10, interval[float64]): [(54.956, 59.4] < (59.4, 63.8] < (63.8, 68.2] < (68.2, 72.6] ... (81.4, 85.8] < (85.8, 90.2] < (90.2, 94.6] < (94.6, 99.0]]\n"
     ]
    },
    {
     "data": {
      "text/plain": [
       "0        b\n",
       "1        c\n",
       "2        D\n",
       "3        D\n",
       "4        a\n",
       "        ..\n",
       "39165    a\n",
       "39166    c\n",
       "39167    a\n",
       "39168    a\n",
       "39169    b\n",
       "Name: math_score, Length: 39170, dtype: category\n",
       "Categories (4, object): [D < c < b < a]"
      ]
     },
     "execution_count": 213,
     "metadata": {},
     "output_type": "execute_result"
    }
   ],
   "source": [
    "##class note lol\n",
    "print(pd.cut(x=data.math_score, bins = 10))\n",
    "\n",
    "pd.cut(x=data.math_score, bins = [0, 60, 70, 80, 90],labels = ['D', 'c', 'b', 'a'],  )"
   ]
  },
  {
   "cell_type": "markdown",
   "metadata": {},
   "source": [
    "## Scores by School Size"
   ]
  },
  {
   "cell_type": "markdown",
   "metadata": {},
   "source": [
    "* Perform the same operations as above, based on school size."
   ]
  },
  {
   "cell_type": "code",
   "execution_count": 191,
   "metadata": {},
   "outputs": [],
   "source": [
    "# Sample bins. Feel free to create your own bins.\n",
    "size_bins = [0, 1000, 2000, 5000]\n",
    "group_names = [\"Small (<1000)\", \"Medium (1000-2000)\", \"Large (2000-5000)\"]"
   ]
  },
  {
   "cell_type": "code",
   "execution_count": 192,
   "metadata": {
    "scrolled": true
   },
   "outputs": [
    {
     "data": {
      "text/plain": [
       "0        NaN\n",
       "1        NaN\n",
       "2        NaN\n",
       "3        NaN\n",
       "4        NaN\n",
       "        ... \n",
       "39165    NaN\n",
       "39166    NaN\n",
       "39167    NaN\n",
       "39168    NaN\n",
       "39169    NaN\n",
       "Name: budget, Length: 39170, dtype: category\n",
       "Categories (3, interval[int64]): [(0, 1000] < (1000, 2000] < (2000, 5000]]"
      ]
     },
     "execution_count": 192,
     "metadata": {},
     "output_type": "execute_result"
    }
   ],
   "source": [
    "pd.cut(x=data.budget, bins = size_bins)"
   ]
  },
  {
   "cell_type": "markdown",
   "metadata": {},
   "source": [
    "## Scores by School Type"
   ]
  },
  {
   "cell_type": "markdown",
   "metadata": {},
   "source": [
    "* Perform the same operations as above, based on school type."
   ]
  },
  {
   "cell_type": "code",
   "execution_count": null,
   "metadata": {},
   "outputs": [],
   "source": []
  },
  {
   "cell_type": "code",
   "execution_count": null,
   "metadata": {},
   "outputs": [],
   "source": []
  }
 ],
 "metadata": {
  "anaconda-cloud": {},
  "kernel_info": {
   "name": "python3"
  },
  "kernelspec": {
   "display_name": "Python 3",
   "language": "python",
   "name": "python3"
  },
  "language_info": {
   "codemirror_mode": {
    "name": "ipython",
    "version": 3
   },
   "file_extension": ".py",
   "mimetype": "text/x-python",
   "name": "python",
   "nbconvert_exporter": "python",
   "pygments_lexer": "ipython3",
   "version": "3.7.4"
  },
  "latex_envs": {
   "LaTeX_envs_menu_present": true,
   "autoclose": false,
   "autocomplete": true,
   "bibliofile": "biblio.bib",
   "cite_by": "apalike",
   "current_citInitial": 1,
   "eqLabelWithNumbers": true,
   "eqNumInitial": 1,
   "hotkeys": {
    "equation": "Ctrl-E",
    "itemize": "Ctrl-I"
   },
   "labels_anchors": false,
   "latex_user_defs": false,
   "report_style_numbering": false,
   "user_envs_cfg": false
  },
  "nteract": {
   "version": "0.8.4"
  }
 },
 "nbformat": 4,
 "nbformat_minor": 4
}
